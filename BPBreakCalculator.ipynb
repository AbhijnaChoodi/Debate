{
  "nbformat": 4,
  "nbformat_minor": 0,
  "metadata": {
    "colab": {
      "name": "BPBreakCalculator.ipynb",
      "provenance": [],
      "collapsed_sections": [],
      "authorship_tag": "ABX9TyOMV9yt4DmvzSUqHZ2YgHAq",
      "include_colab_link": true
    },
    "kernelspec": {
      "name": "python3",
      "display_name": "Python 3"
    },
    "language_info": {
      "name": "python"
    }
  },
  "cells": [
    {
      "cell_type": "markdown",
      "metadata": {
        "id": "view-in-github",
        "colab_type": "text"
      },
      "source": [
        "<a href=\"https://colab.research.google.com/github/AbhijnaChoodi/Debate/blob/main/BPBreakCalculator.ipynb\" target=\"_parent\"><img src=\"https://colab.research.google.com/assets/colab-badge.svg\" alt=\"Open In Colab\"/></a>"
      ]
    },
    {
      "cell_type": "code",
      "execution_count": null,
      "metadata": {
        "id": "wBvcMzi_dnHY",
        "colab": {
          "base_uri": "https://localhost:8080/"
        },
        "outputId": "b26c9989-318c-4ade-df03-64bd0e483a01"
      },
      "outputs": [
        {
          "output_type": "stream",
          "name": "stdout",
          "text": [
            "Enter number of teams:\n",
            "28\n",
            "Enter number of rounds:\n",
            "4\n",
            "Enter number of breaks:\n",
            "8\n",
            "[[   7. 6095.]\n",
            " [   8. 3905.]]\n",
            "2\n",
            "6095.0  times teams broke at  7.0\n",
            "3905.0  times teams broke at  8.0\n"
          ]
        }
      ],
      "source": [
        "import numpy as np\n",
        "import random as random\n",
        "print(\"Enter number of teams:\")\n",
        "Tn = input()\n",
        "print(\"Enter number of rounds:\")\n",
        "Rn = input()\n",
        "print(\"Enter number of breaks:\")\n",
        "Bn = input()\n",
        "\n",
        "Tn = int(Tn)\n",
        "Rn = int(Rn)\n",
        "Bn = int(Bn)\n",
        "\n",
        "Zn = np.zeros(shape=(10000))\n",
        "#print(Zn)\n",
        "for j in range(0,10000):\n",
        "  Pn = np.zeros((Rn+1, Tn))\n",
        "  #print(Pn)\n",
        "\n",
        "  i = 0\n",
        "  while i < Rn:\n",
        "      n = 0\n",
        "      p = 0\n",
        "      # loop1\n",
        "      while p < Tn-1:\n",
        "          k = n\n",
        "          # loop2\n",
        "          while 0 < 1:\n",
        "\n",
        "              if n < Tn-1:\n",
        "                  if Pn[i][n] == Pn[i][n + 1]:\n",
        "                      p = p + 1\n",
        "\n",
        "                  else:\n",
        "                      break\n",
        "\n",
        "                  n = n + 1\n",
        "\n",
        "                  if p == (Tn - 1):\n",
        "                      break\n",
        "          #print(\"loop2 ended\")\n",
        "\n",
        "          if p % 4 == 0:\n",
        "              p = p + 3\n",
        "          elif p % 4 == 1:\n",
        "              p = p + 2\n",
        "          elif p % 4 == 2:\n",
        "              p = p + 1\n",
        "\n",
        "          n = k\n",
        "          #loop3\n",
        "          while n < k + (p + 1 - k)/4:\n",
        "              q = [0, 1, 2, 3]\n",
        "              random.shuffle(q)\n",
        "              Pn[i][n] = Pn[i][n] + q[0]\n",
        "              Pn[i][(p - (n-k))] = Pn[i][(p - (n-k))] + q[1]\n",
        "              q1 = k + (p - 1 - k)/2 - (n - k)\n",
        "              q1=int(q1)\n",
        "              q2=k + (p + 1 - k) / 2 + (n - k)\n",
        "              q2=int(q2)\n",
        "              Pn[i][q1] = Pn[i][q1] + q[2]\n",
        "              Pn[i][q2] = Pn[i][q2] + q[3]\n",
        "              n = n + 1\n",
        "          #print(\"loop3 ended\")\n",
        "\n",
        "          p = p+1\n",
        "          n = p\n",
        "\n",
        "      #print(\"loop1 ended\")\n",
        "      Pn[i + 1] = np.sort(Pn[i])[::-1]\n",
        "      #print(Pn[i+1])\n",
        "      i = i + 1\n",
        "  Xx = Pn[Rn, Bn-1]\n",
        "\n",
        "  Zn[j] = Xx\n",
        "\n",
        "Zn = np.sort(Zn)\n",
        "\n",
        "(unique, counts) = np.unique(Zn, return_counts=True)\n",
        "frequencies = np.asarray((unique, counts)).T\n",
        "\n",
        "print(frequencies)\n",
        "(aa, bb) = frequencies.shape\n",
        "print(aa)\n",
        "\n",
        "for t in range(aa):\n",
        "    f1 = frequencies[t, 1]\n",
        "    f2 = frequencies[t, 0]\n",
        "    print(f1, \" times teams broke at \", f2 )\n",
        "\n"
      ]
    }
  ]
}