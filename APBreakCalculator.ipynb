{
  "nbformat": 4,
  "nbformat_minor": 0,
  "metadata": {
    "colab": {
      "name": "APBreakCalculator.ipynb",
      "provenance": [],
      "collapsed_sections": [],
      "authorship_tag": "ABX9TyOxvcdWBjSxDUGHcCtIZRDP",
      "include_colab_link": true
    },
    "kernelspec": {
      "name": "python3",
      "display_name": "Python 3"
    },
    "language_info": {
      "name": "python"
    }
  },
  "cells": [
    {
      "cell_type": "markdown",
      "metadata": {
        "id": "view-in-github",
        "colab_type": "text"
      },
      "source": [
        "<a href=\"https://colab.research.google.com/github/AbhijnaChoodi/Debate/blob/main/APBreakCalculator.ipynb\" target=\"_parent\"><img src=\"https://colab.research.google.com/assets/colab-badge.svg\" alt=\"Open In Colab\"/></a>"
      ]
    },
    {
      "cell_type": "code",
      "execution_count": null,
      "metadata": {
        "id": "Ye6DXypH-XE9"
      },
      "outputs": [],
      "source": [
        "import numpy as np\n",
        "import random as random\n",
        "print(\"Enter number of teams:\")\n",
        "Tn = input()\n",
        "print(\"Enter number of rounds:\")\n",
        "Rn = input()\n",
        "print(\"Enter number of breaks:\")\n",
        "Bn = input()\n",
        "\n",
        "Tn = int(Tn)\n",
        "Rn = int(Rn)\n",
        "Bn = int(Bn)\n",
        "\n",
        "Zn = np.zeros(shape=(10000))\n",
        "#print(Zn)\n",
        "for j in range(0,10000):\n",
        "    Pn = np.zeros((Rn+1, Tn))\n",
        "    #print(Pn)\n",
        "\n",
        "    i = 0\n",
        "    while i < Rn:\n",
        "        n = 0\n",
        "        p = 0\n",
        "        # loop1\n",
        "        while p < Tn-1:\n",
        "            k = n\n",
        "            # loop2\n",
        "            while 0 < 1:\n",
        "\n",
        "                if n < Tn-1:\n",
        "                    if Pn[i][n] == Pn[i][n + 1]:\n",
        "                        p = p + 1\n",
        "\n",
        "                    else:\n",
        "                        break\n",
        "\n",
        "                    n = n + 1\n",
        "\n",
        "                    if p == (Tn - 1):\n",
        "                        break\n",
        "            #print(\"loop2 ended\")\n",
        "\n",
        "            if p % 2 == 0:\n",
        "                p = p + 1\n",
        "\n",
        "            n = k\n",
        "            #loop3\n",
        "            while n < k + (p + 1 - k) / 2:\n",
        "                o = random.randint(0, 1)\n",
        "                Pn[i][n] = Pn[i][n] + o\n",
        "                x = n + (p + 1 - k) / 2\n",
        "                x = int(x)\n",
        "                Pn[i][x] = Pn[i][x] + 1 - o\n",
        "                n = n + 1\n",
        "            #print(\"loop3 ended\")\n",
        "\n",
        "            p = p+1\n",
        "            n = p\n",
        "\n",
        "        #print(\"loop1 ended\")\n",
        "        Pn[i + 1] = np.sort(Pn[i])[::-1]\n",
        "        #print(Pn[i+1])\n",
        "        i = i + 1\n",
        "    Xx = Pn[Rn, Bn-1]\n",
        "    Zn[j] = Xx\n",
        "\n",
        "Zn = np.sort(Zn)\n",
        "\n",
        "(unique, counts) = np.unique(Zn, return_counts=True)\n",
        "frequencies = np.asarray((unique, counts)).T\n",
        "\n",
        "#print(frequencies)\n",
        "(aa, bb) = frequencies.shape\n",
        "#print(aa)\n",
        "\n",
        "for t in range(aa):\n",
        "    f1 = frequencies[t, 1]\n",
        "    f2 = frequencies[t, 0]\n",
        "    print(f1, \" times teams broke at \", f2 )\n",
        "\n",
        "\n"
      ]
    }
  ]
}